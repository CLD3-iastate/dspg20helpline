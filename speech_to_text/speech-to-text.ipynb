{
 "cells": [
  {
   "cell_type": "code",
   "execution_count": 1,
   "metadata": {},
   "outputs": [],
   "source": [
    "filepath = \"dspg_hotline/\" #need path\n",
    "bucketname = \"callaudiofiles_dspg\"\n",
    "\n",
    "# Link to Google_Documentation(Allows you to reproduce the code below): https://cloud.google.com/speech-to-text/docs/python-client-migration\n"
   ]
  },
  {
   "cell_type": "code",
   "execution_count": 2,
   "metadata": {},
   "outputs": [
    {
     "name": "stderr",
     "output_type": "stream",
     "text": [
      "/home/am8gy/.local/lib/python3.7/site-packages/pydub/utils.py:170: RuntimeWarning: Couldn't find ffmpeg or avconv - defaulting to ffmpeg, but may not work\n",
      "  warn(\"Couldn't find ffmpeg or avconv - defaulting to ffmpeg, but may not work\", RuntimeWarning)\n"
     ]
    }
   ],
   "source": [
    "#Importing libraries \n",
    "\n",
    "from pydub import AudioSegment\n",
    "\n",
    "import io\n",
    "\n",
    "import os\n",
    "\n",
    "#from google.cloud import speech\n",
    "#from google.cloud.speech import enums\n",
    "#from google.cloud.speech import types\n",
    "\n",
    "from google.cloud import speech_v1p1beta1 as speech #Changed\n",
    "from google.cloud.speech_v1p1beta1 import enums #Changed\n",
    "from google.cloud.speech_v1p1beta1 import types #Changed\n",
    "\n",
    "\n",
    "import wave\n",
    "\n",
    "from google.cloud import storage\n",
    "\n",
    "os.environ[\"GOOGLE_APPLICATION_CREDENTIALS\"]=\"your api key\""
   ]
  },
  {
   "cell_type": "code",
   "execution_count": 3,
   "metadata": {},
   "outputs": [],
   "source": [
    "def stereo_to_mono(audio_file_name):\n",
    "    sound = AudioSegment.from_wav(audio_file_name)\n",
    "    sound = sound.set_channels(1)\n",
    "    sound.export(audio_file_name, format=\"wav\")"
   ]
  },
  {
   "cell_type": "code",
   "execution_count": 4,
   "metadata": {},
   "outputs": [],
   "source": [
    "def frame_rate_channel(audio_file_name):\n",
    "    with wave.open(audio_file_name, \"rb\") as wave_file:\n",
    "        frame_rate = wave_file.getframerate()\n",
    "        channels = wave_file.getnchannels()\n",
    "        return frame_rate,channels"
   ]
  },
  {
   "cell_type": "code",
   "execution_count": 5,
   "metadata": {},
   "outputs": [],
   "source": [
    "def upload_blob(bucket_name, source_file_name, destination_blob_name):\n",
    "    \"\"\"Uploads a file to the bucket.\"\"\"\n",
    "    storage_client = storage.Client()\n",
    "    bucket = storage_client.get_bucket(bucket_name)\n",
    "    blob = bucket.blob(destination_blob_name)\n",
    "\n",
    "    blob.upload_from_filename(source_file_name)\n"
   ]
  },
  {
   "cell_type": "code",
   "execution_count": 6,
   "metadata": {},
   "outputs": [],
   "source": [
    "def delete_blob(bucket_name, blob_name):\n",
    "    \"\"\"Deletes a blob from the bucket.\"\"\"\n",
    "    storage_client = storage.Client()\n",
    "    bucket = storage_client.get_bucket(bucket_name)\n",
    "    blob = bucket.blob(blob_name)\n",
    "\n",
    "    blob.delete()"
   ]
  },
  {
   "cell_type": "code",
   "execution_count": 7,
   "metadata": {},
   "outputs": [],
   "source": [
    "def speech_to_text_api(wav_file):\n",
    "    \n",
    "    file_name = filepath + wav_file\n",
    "    \n",
    "    frame_rate, channels = frame_rate_channel(file_name)\n",
    "    \n",
    "    if channels > 1:\n",
    "        stereo_to_mono(file_name)\n",
    "    \n",
    "    bucket_name = bucketname\n",
    "    source_file_name = filepath + wav_file\n",
    "    destination_blob_name = wav_file\n",
    "    \n",
    "    upload_blob(bucket_name, source_file_name, destination_blob_name)\n",
    "    \n",
    "    gcs_uri = 'gs://' + bucketname + '/' + wav_file  # The URI of the audio file being transcribed.\n",
    "    transcript = ''\n",
    "    \n",
    "    client = speech.SpeechClient() # Creates the Client\n",
    "    audio = types.RecognitionAudio(uri=gcs_uri) \n",
    "                                                                    # identify audio content from a local file\n",
    "    config = types.RecognitionConfig(                             # identify  from a Google Cloud Storage URI, use the new RecognitionAudio\n",
    "    encoding=enums.RecognitionConfig.AudioEncoding.LINEAR16, #Encoding\n",
    "    language_code='en-US',\n",
    "    enable_speaker_diarization=True,  #enables speaker detection\n",
    "    diarization_speaker_count=2) #specifies the estimated number of speakers in the conversation\n",
    "\n",
    "    \n",
    "    operation = client.long_running_recognize(config, audio) # Performs asynchronous speech recognition: receive results via the google.longrunning.Operations interface\n",
    "    response = operation.result(timeout=10000) \n",
    "    result = response.results[-1] \n",
    "    words = result.alternatives[0].words\n",
    "    \n",
    "    tag=1 \n",
    "    speaker=\"\" \n",
    "\n",
    "    for word_information in words: \n",
    "        if word_information.speaker_tag==tag: \n",
    "            speaker=speaker+\" \"+word_information.word \n",
    "        else: \n",
    "            transcript += \"speaker {}: {}\".format(tag,speaker) + '\\n' \n",
    "            tag=word_information.speaker_tag \n",
    "            speaker=\"\"+word_information.word \n",
    " \n",
    "    transcript += \"speaker {}: {}\".format(tag,speaker) \n",
    "    \n",
    "    delete_blob(bucket_name, destination_blob_name)\n",
    "    return transcript"
   ]
  },
  {
   "cell_type": "code",
   "execution_count": 8,
   "metadata": {},
   "outputs": [],
   "source": [
    "t_1 = speech_to_text_api(\"6183.wav\")\n",
    "t_2 = speech_to_text_api(\"6130.wav\") \n",
    "t_3 = speech_to_text_api(\"4902.wav\")\n",
    "t_4 = speech_to_text_api(\"4790.wav\")\n",
    "t_5 = speech_to_text_api(\"4875.wav\")"
   ]
  },
  {
   "cell_type": "code",
   "execution_count": 9,
   "metadata": {},
   "outputs": [],
   "source": [
    "import pandas as pd"
   ]
  },
  {
   "cell_type": "code",
   "execution_count": 10,
   "metadata": {},
   "outputs": [],
   "source": [
    "df = pd.DataFrame({\"Database\": \"Talk_Bank\", \"Study\": \"Call_Home\", \"Call_Number\": \"6183\", \"File_Format\": \".wav\", 'Call_Transcript': [t_1]})\n",
    "df2 = pd.DataFrame({\"Database\": \"Talk_Bank\", \"Study\": \"Call_Home\", \"Call_Number\": \"6130\", \"File_Format\": \".wav\", 'Call_Transcript': [t_2]})\n",
    "df3 = pd.DataFrame({\"Database\": \"Talk_Bank\", \"Study\": \"Call_Home\", \"Call_Number\": \"4902\", \"File_Format\": \".wav\", 'Call_Transcript': [t_3]})\n",
    "df4 = pd.DataFrame({\"Database\": \"Talk_Bank\", \"Study\": \"Call_Home\", \"Call_Number\": \"4790\", \"File_Format\": \".wav\", 'Call_Transcript': [t_4]})\n",
    "df5 = pd.DataFrame({\"Database\": \"Talk_Bank\", \"Study\": \"Call_Home\", \"Call_Number\": \"4875\", \"File_Format\": \".wav\", 'Call_Transcript': [t_5]})"
   ]
  },
  {
   "cell_type": "code",
   "execution_count": 34,
   "metadata": {},
   "outputs": [],
   "source": [
    "\n",
    "df_final_rough = pd.concat([df, df2, df3, df4, df5])"
   ]
  },
  {
   "cell_type": "code",
   "execution_count": 35,
   "metadata": {},
   "outputs": [
    {
     "data": {
      "text/html": [
       "<div>\n",
       "<style scoped>\n",
       "    .dataframe tbody tr th:only-of-type {\n",
       "        vertical-align: middle;\n",
       "    }\n",
       "\n",
       "    .dataframe tbody tr th {\n",
       "        vertical-align: top;\n",
       "    }\n",
       "\n",
       "    .dataframe thead th {\n",
       "        text-align: right;\n",
       "    }\n",
       "</style>\n",
       "<table border=\"1\" class=\"dataframe\">\n",
       "  <thead>\n",
       "    <tr style=\"text-align: right;\">\n",
       "      <th></th>\n",
       "      <th>Database</th>\n",
       "      <th>Study</th>\n",
       "      <th>Call_Number</th>\n",
       "      <th>File_Format</th>\n",
       "      <th>Call_Transcript</th>\n",
       "    </tr>\n",
       "  </thead>\n",
       "  <tbody>\n",
       "    <tr>\n",
       "      <td>0</td>\n",
       "      <td>Talk_Bank</td>\n",
       "      <td>Call_Home</td>\n",
       "      <td>6183</td>\n",
       "      <td>.wav</td>\n",
       "      <td>speaker 1: \\nspeaker 2: are you there\\nspeaker...</td>\n",
       "    </tr>\n",
       "    <tr>\n",
       "      <td>0</td>\n",
       "      <td>Talk_Bank</td>\n",
       "      <td>Call_Home</td>\n",
       "      <td>6130</td>\n",
       "      <td>.wav</td>\n",
       "      <td>speaker 1:  hello\\nspeaker 2: hello okay publi...</td>\n",
       "    </tr>\n",
       "    <tr>\n",
       "      <td>0</td>\n",
       "      <td>Talk_Bank</td>\n",
       "      <td>Call_Home</td>\n",
       "      <td>4902</td>\n",
       "      <td>.wav</td>\n",
       "      <td>speaker 1:  I don't know if I don't remember n...</td>\n",
       "    </tr>\n",
       "    <tr>\n",
       "      <td>0</td>\n",
       "      <td>Talk_Bank</td>\n",
       "      <td>Call_Home</td>\n",
       "      <td>4790</td>\n",
       "      <td>.wav</td>\n",
       "      <td>speaker 1: \\nspeaker 2: are you there you got ...</td>\n",
       "    </tr>\n",
       "    <tr>\n",
       "      <td>0</td>\n",
       "      <td>Talk_Bank</td>\n",
       "      <td>Call_Home</td>\n",
       "      <td>4875</td>\n",
       "      <td>.wav</td>\n",
       "      <td>speaker 1:  Hi how are you good to\\nspeaker 2:...</td>\n",
       "    </tr>\n",
       "  </tbody>\n",
       "</table>\n",
       "</div>"
      ],
      "text/plain": [
       "    Database      Study Call_Number File_Format  \\\n",
       "0  Talk_Bank  Call_Home        6183        .wav   \n",
       "0  Talk_Bank  Call_Home        6130        .wav   \n",
       "0  Talk_Bank  Call_Home        4902        .wav   \n",
       "0  Talk_Bank  Call_Home        4790        .wav   \n",
       "0  Talk_Bank  Call_Home        4875        .wav   \n",
       "\n",
       "                                     Call_Transcript  \n",
       "0  speaker 1: \\nspeaker 2: are you there\\nspeaker...  \n",
       "0  speaker 1:  hello\\nspeaker 2: hello okay publi...  \n",
       "0  speaker 1:  I don't know if I don't remember n...  \n",
       "0  speaker 1: \\nspeaker 2: are you there you got ...  \n",
       "0  speaker 1:  Hi how are you good to\\nspeaker 2:...  "
      ]
     },
     "execution_count": 35,
     "metadata": {},
     "output_type": "execute_result"
    }
   ],
   "source": [
    "df_final_rough"
   ]
  },
  {
   "cell_type": "code",
   "execution_count": 36,
   "metadata": {},
   "outputs": [],
   "source": [
    "df_final_rough.drop(df_final_rough.columns[[0]], axis=1, inplace=True)"
   ]
  },
  {
   "cell_type": "code",
   "execution_count": 37,
   "metadata": {},
   "outputs": [],
   "source": [
    "df_final_rough.to_csv(\"rough_data_trans.csv\")"
   ]
  },
  {
   "cell_type": "code",
   "execution_count": 13,
   "metadata": {},
   "outputs": [
    {
     "ename": "KeyError",
     "evalue": "1",
     "output_type": "error",
     "traceback": [
      "\u001b[0;31m---------------------------------------------------------------------------\u001b[0m",
      "\u001b[0;31mKeyError\u001b[0m                                  Traceback (most recent call last)",
      "\u001b[0;32m<ipython-input-13-d5b9f305843d>\u001b[0m in \u001b[0;36m<module>\u001b[0;34m\u001b[0m\n\u001b[1;32m      7\u001b[0m     \u001b[0;32mreturn\u001b[0m \u001b[0mv\u001b[0m\u001b[0;34m\u001b[0m\u001b[0;34m\u001b[0m\u001b[0m\n\u001b[1;32m      8\u001b[0m \u001b[0;34m\u001b[0m\u001b[0m\n\u001b[0;32m----> 9\u001b[0;31m \u001b[0mdf_final\u001b[0m \u001b[0;34m=\u001b[0m \u001b[0mreturnlist\u001b[0m\u001b[0;34m(\u001b[0m\u001b[0mdf_final_rough\u001b[0m\u001b[0;34m)\u001b[0m\u001b[0;34m\u001b[0m\u001b[0;34m\u001b[0m\u001b[0m\n\u001b[0m",
      "\u001b[0;32m<ipython-input-13-d5b9f305843d>\u001b[0m in \u001b[0;36mreturnlist\u001b[0;34m(df_final_rough)\u001b[0m\n\u001b[1;32m      2\u001b[0m     \u001b[0mv\u001b[0m \u001b[0;34m=\u001b[0m \u001b[0;34m[\u001b[0m\u001b[0;34m]\u001b[0m\u001b[0;34m\u001b[0m\u001b[0;34m\u001b[0m\u001b[0m\n\u001b[1;32m      3\u001b[0m     \u001b[0;32mfor\u001b[0m \u001b[0mi\u001b[0m \u001b[0;32min\u001b[0m \u001b[0mrange\u001b[0m\u001b[0;34m(\u001b[0m\u001b[0mdf_final_rough\u001b[0m\u001b[0;34m.\u001b[0m\u001b[0mshape\u001b[0m\u001b[0;34m[\u001b[0m\u001b[0;36m0\u001b[0m\u001b[0;34m]\u001b[0m\u001b[0;34m)\u001b[0m\u001b[0;34m:\u001b[0m\u001b[0;34m\u001b[0m\u001b[0;34m\u001b[0m\u001b[0m\n\u001b[0;32m----> 4\u001b[0;31m              \u001b[0;32mif\u001b[0m \u001b[0mtype\u001b[0m\u001b[0;34m(\u001b[0m\u001b[0mdf_final_rough\u001b[0m\u001b[0;34m[\u001b[0m\u001b[0;34m'Call_Transcript'\u001b[0m\u001b[0;34m]\u001b[0m\u001b[0;34m[\u001b[0m\u001b[0mi\u001b[0m\u001b[0;34m]\u001b[0m\u001b[0;34m)\u001b[0m \u001b[0;34m!=\u001b[0m \u001b[0mint\u001b[0m\u001b[0;34m:\u001b[0m\u001b[0;34m\u001b[0m\u001b[0;34m\u001b[0m\u001b[0m\n\u001b[0m\u001b[1;32m      5\u001b[0m                  \u001b[0mx\u001b[0m \u001b[0;34m=\u001b[0m \u001b[0mlist\u001b[0m\u001b[0;34m(\u001b[0m\u001b[0mdf_final_rough\u001b[0m\u001b[0;34m[\u001b[0m\u001b[0;34m'Call_Transcript'\u001b[0m\u001b[0;34m]\u001b[0m\u001b[0;34m[\u001b[0m\u001b[0mi\u001b[0m\u001b[0;34m]\u001b[0m\u001b[0;34m)\u001b[0m\u001b[0;34m\u001b[0m\u001b[0;34m\u001b[0m\u001b[0m\n\u001b[1;32m      6\u001b[0m                  \u001b[0mv\u001b[0m\u001b[0;34m.\u001b[0m\u001b[0mappend\u001b[0m\u001b[0;34m(\u001b[0m\u001b[0mx\u001b[0m\u001b[0;34m)\u001b[0m\u001b[0;34m\u001b[0m\u001b[0;34m\u001b[0m\u001b[0m\n",
      "\u001b[0;32m/apps/software/standard/core/anaconda/2019.10-py3.7/lib/python3.7/site-packages/pandas/core/series.py\u001b[0m in \u001b[0;36m__getitem__\u001b[0;34m(self, key)\u001b[0m\n\u001b[1;32m   1066\u001b[0m         \u001b[0mkey\u001b[0m \u001b[0;34m=\u001b[0m \u001b[0mcom\u001b[0m\u001b[0;34m.\u001b[0m\u001b[0mapply_if_callable\u001b[0m\u001b[0;34m(\u001b[0m\u001b[0mkey\u001b[0m\u001b[0;34m,\u001b[0m \u001b[0mself\u001b[0m\u001b[0;34m)\u001b[0m\u001b[0;34m\u001b[0m\u001b[0;34m\u001b[0m\u001b[0m\n\u001b[1;32m   1067\u001b[0m         \u001b[0;32mtry\u001b[0m\u001b[0;34m:\u001b[0m\u001b[0;34m\u001b[0m\u001b[0;34m\u001b[0m\u001b[0m\n\u001b[0;32m-> 1068\u001b[0;31m             \u001b[0mresult\u001b[0m \u001b[0;34m=\u001b[0m \u001b[0mself\u001b[0m\u001b[0;34m.\u001b[0m\u001b[0mindex\u001b[0m\u001b[0;34m.\u001b[0m\u001b[0mget_value\u001b[0m\u001b[0;34m(\u001b[0m\u001b[0mself\u001b[0m\u001b[0;34m,\u001b[0m \u001b[0mkey\u001b[0m\u001b[0;34m)\u001b[0m\u001b[0;34m\u001b[0m\u001b[0;34m\u001b[0m\u001b[0m\n\u001b[0m\u001b[1;32m   1069\u001b[0m \u001b[0;34m\u001b[0m\u001b[0m\n\u001b[1;32m   1070\u001b[0m             \u001b[0;32mif\u001b[0m \u001b[0;32mnot\u001b[0m \u001b[0mis_scalar\u001b[0m\u001b[0;34m(\u001b[0m\u001b[0mresult\u001b[0m\u001b[0;34m)\u001b[0m\u001b[0;34m:\u001b[0m\u001b[0;34m\u001b[0m\u001b[0;34m\u001b[0m\u001b[0m\n",
      "\u001b[0;32m/apps/software/standard/core/anaconda/2019.10-py3.7/lib/python3.7/site-packages/pandas/core/indexes/base.py\u001b[0m in \u001b[0;36mget_value\u001b[0;34m(self, series, key)\u001b[0m\n\u001b[1;32m   4728\u001b[0m         \u001b[0mk\u001b[0m \u001b[0;34m=\u001b[0m \u001b[0mself\u001b[0m\u001b[0;34m.\u001b[0m\u001b[0m_convert_scalar_indexer\u001b[0m\u001b[0;34m(\u001b[0m\u001b[0mk\u001b[0m\u001b[0;34m,\u001b[0m \u001b[0mkind\u001b[0m\u001b[0;34m=\u001b[0m\u001b[0;34m\"getitem\"\u001b[0m\u001b[0;34m)\u001b[0m\u001b[0;34m\u001b[0m\u001b[0;34m\u001b[0m\u001b[0m\n\u001b[1;32m   4729\u001b[0m         \u001b[0;32mtry\u001b[0m\u001b[0;34m:\u001b[0m\u001b[0;34m\u001b[0m\u001b[0;34m\u001b[0m\u001b[0m\n\u001b[0;32m-> 4730\u001b[0;31m             \u001b[0;32mreturn\u001b[0m \u001b[0mself\u001b[0m\u001b[0;34m.\u001b[0m\u001b[0m_engine\u001b[0m\u001b[0;34m.\u001b[0m\u001b[0mget_value\u001b[0m\u001b[0;34m(\u001b[0m\u001b[0ms\u001b[0m\u001b[0;34m,\u001b[0m \u001b[0mk\u001b[0m\u001b[0;34m,\u001b[0m \u001b[0mtz\u001b[0m\u001b[0;34m=\u001b[0m\u001b[0mgetattr\u001b[0m\u001b[0;34m(\u001b[0m\u001b[0mseries\u001b[0m\u001b[0;34m.\u001b[0m\u001b[0mdtype\u001b[0m\u001b[0;34m,\u001b[0m \u001b[0;34m\"tz\"\u001b[0m\u001b[0;34m,\u001b[0m \u001b[0;32mNone\u001b[0m\u001b[0;34m)\u001b[0m\u001b[0;34m)\u001b[0m\u001b[0;34m\u001b[0m\u001b[0;34m\u001b[0m\u001b[0m\n\u001b[0m\u001b[1;32m   4731\u001b[0m         \u001b[0;32mexcept\u001b[0m \u001b[0mKeyError\u001b[0m \u001b[0;32mas\u001b[0m \u001b[0me1\u001b[0m\u001b[0;34m:\u001b[0m\u001b[0;34m\u001b[0m\u001b[0;34m\u001b[0m\u001b[0m\n\u001b[1;32m   4732\u001b[0m             \u001b[0;32mif\u001b[0m \u001b[0mlen\u001b[0m\u001b[0;34m(\u001b[0m\u001b[0mself\u001b[0m\u001b[0;34m)\u001b[0m \u001b[0;34m>\u001b[0m \u001b[0;36m0\u001b[0m \u001b[0;32mand\u001b[0m \u001b[0;34m(\u001b[0m\u001b[0mself\u001b[0m\u001b[0;34m.\u001b[0m\u001b[0mholds_integer\u001b[0m\u001b[0;34m(\u001b[0m\u001b[0;34m)\u001b[0m \u001b[0;32mor\u001b[0m \u001b[0mself\u001b[0m\u001b[0;34m.\u001b[0m\u001b[0mis_boolean\u001b[0m\u001b[0;34m(\u001b[0m\u001b[0;34m)\u001b[0m\u001b[0;34m)\u001b[0m\u001b[0;34m:\u001b[0m\u001b[0;34m\u001b[0m\u001b[0;34m\u001b[0m\u001b[0m\n",
      "\u001b[0;32mpandas/_libs/index.pyx\u001b[0m in \u001b[0;36mpandas._libs.index.IndexEngine.get_value\u001b[0;34m()\u001b[0m\n",
      "\u001b[0;32mpandas/_libs/index.pyx\u001b[0m in \u001b[0;36mpandas._libs.index.IndexEngine.get_value\u001b[0;34m()\u001b[0m\n",
      "\u001b[0;32mpandas/_libs/index.pyx\u001b[0m in \u001b[0;36mpandas._libs.index.IndexEngine.get_loc\u001b[0;34m()\u001b[0m\n",
      "\u001b[0;32mpandas/_libs/index.pyx\u001b[0m in \u001b[0;36mpandas._libs.index.IndexEngine._get_loc_duplicates\u001b[0;34m()\u001b[0m\n",
      "\u001b[0;31mKeyError\u001b[0m: 1"
     ]
    }
   ],
   "source": [
    "#def returnlist(df_final_rough):\n",
    "   # v = []\n",
    "   # for i in range(df_final_rough.shape[0]):\n",
    "            # if type(df_final_rough['Call_Transcript'][i]) != int:\n",
    "                 #x = list(df_final_rough['Call_Transcript'][i])\n",
    "                # v.append(x)           \n",
    "   # return v\n",
    "\n",
    "#df_final = returnlist(df_final_rough)"
   ]
  },
  {
   "cell_type": "code",
   "execution_count": null,
   "metadata": {},
   "outputs": [],
   "source": []
  }
 ],
 "metadata": {
  "kernelspec": {
   "display_name": "Python 3.7",
   "language": "python",
   "name": "python37"
  },
  "language_info": {
   "codemirror_mode": {
    "name": "ipython",
    "version": 3
   },
   "file_extension": ".py",
   "mimetype": "text/x-python",
   "name": "python",
   "nbconvert_exporter": "python",
   "pygments_lexer": "ipython3",
   "version": "3.7.4"
  }
 },
 "nbformat": 4,
 "nbformat_minor": 4
}
