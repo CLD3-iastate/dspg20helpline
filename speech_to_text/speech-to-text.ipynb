{
 "cells": [
  {
   "cell_type": "code",
   "execution_count": 1,
   "metadata": {},
   "outputs": [],
   "source": [
    "filepath = \"dspg_hotline/\" #need path\n",
    "bucketname = \"callaudiofiles_dspg\"\n",
    "\n",
    "# Link to Google_Documentation(Allows you to reproduce the code below): https://cloud.google.com/speech-to-text/docs/python-client-migration\n"
   ]
  },
  {
   "cell_type": "code",
   "execution_count": 2,
   "metadata": {},
   "outputs": [
    {
     "name": "stderr",
     "output_type": "stream",
     "text": [
      "/home/am8gy/.local/lib/python3.7/site-packages/pydub/utils.py:170: RuntimeWarning: Couldn't find ffmpeg or avconv - defaulting to ffmpeg, but may not work\n",
      "  warn(\"Couldn't find ffmpeg or avconv - defaulting to ffmpeg, but may not work\", RuntimeWarning)\n"
     ]
    }
   ],
   "source": [
    "#Importing libraries \n",
    "\n",
    "from pydub import AudioSegment\n",
    "\n",
    "import io\n",
    "\n",
    "import os\n",
    "\n",
    "#from google.cloud import speech\n",
    "#from google.cloud.speech import enums\n",
    "#from google.cloud.speech import types\n",
    "\n",
    "from google.cloud import speech_v1p1beta1 as speech #Changed\n",
    "from google.cloud.speech_v1p1beta1 import enums #Changed\n",
    "from google.cloud.speech_v1p1beta1 import types #Changed\n",
    "\n",
    "\n",
    "import wave\n",
    "\n",
    "from google.cloud import storage\n",
    "\n",
    "os.environ[\"GOOGLE_APPLICATION_CREDENTIALS\"]=\"dspg-speech-text-2c2098813f0b.json\" #dspg-speech-text-2c2098813f0b.json"
   ]
  },
  {
   "cell_type": "code",
   "execution_count": 5,
   "metadata": {},
   "outputs": [],
   "source": [
    "def upload_blob(bucket_name, source_file_name, destination_blob_name):\n",
    "    \"\"\"Uploads a file to the bucket.\"\"\"\n",
    "    storage_client = storage.Client()\n",
    "    bucket = storage_client.get_bucket(bucket_name)\n",
    "    blob = bucket.blob(destination_blob_name)\n",
    "\n",
    "    blob.upload_from_filename(source_file_name)\n"
   ]
  },
  {
   "cell_type": "code",
   "execution_count": 6,
   "metadata": {},
   "outputs": [],
   "source": [
    "def delete_blob(bucket_name, blob_name):\n",
    "    \"\"\"Deletes a blob from the bucket.\"\"\"\n",
    "    storage_client = storage.Client()\n",
    "    bucket = storage_client.get_bucket(bucket_name)\n",
    "    blob = bucket.blob(blob_name)\n",
    "\n",
    "    blob.delete()"
   ]
  },
  {
   "cell_type": "code",
   "execution_count": 7,
   "metadata": {},
   "outputs": [],
   "source": [
    "def speech_to_text_api(wav_file):\n",
    "    \n",
    "    file_name = filepath + wav_file\n",
    "    \n",
    "    bucket_name = bucketname\n",
    "    source_file_name = filepath + wav_file\n",
    "    destination_blob_name = wav_file\n",
    "    \n",
    "    upload_blob(bucket_name, source_file_name, destination_blob_name)\n",
    "    \n",
    "    gcs_uri = 'gs://' + bucketname + '/' + wav_file  # The URI of the audio file being transcribed.\n",
    "    transcript = ''\n",
    "    \n",
    "    client = speech.SpeechClient() # Creates the Client\n",
    "    audio = types.RecognitionAudio(uri=gcs_uri) \n",
    "                                                                    # identify audio content from a local file\n",
    "    config = types.RecognitionConfig(                             # identify  from a Google Cloud Storage URI, use the new RecognitionAudio\n",
    "    encoding=enums.RecognitionConfig.AudioEncoding.LINEAR16, #Encoding\n",
    "    language_code='en-US',\n",
    "    enable_speaker_diarization=True,  #enables speaker detection\n",
    "    diarization_speaker_count=2) #specifies the estimated number of speakers in the conversation\n",
    "\n",
    "    \n",
    "    operation = client.long_running_recognize(config, audio) # Performs asynchronous speech recognition: receive results via the google.longrunning.Operations interface\n",
    "    response = operation.result(timeout=10000) \n",
    "    result = response.results[-1] \n",
    "    words = result.alternatives[0].words\n",
    "    \n",
    "    tag=1 \n",
    "    speaker=\"\" \n",
    "\n",
    "    for word_information in words: \n",
    "        if word_information.speaker_tag==tag: \n",
    "            speaker=speaker+\" \"+word_information.word \n",
    "        else: \n",
    "            transcript += \"speaker {}: {}\".format(tag,speaker) + '\\n' \n",
    "            tag=word_information.speaker_tag \n",
    "            speaker=\"\"+word_information.word \n",
    " \n",
    "    transcript += \"speaker {}: {}\".format(tag,speaker) \n",
    "    \n",
    "    delete_blob(bucket_name, destination_blob_name)\n",
    "    return transcript"
   ]
  },
  {
   "cell_type": "code",
   "execution_count": 8,
   "metadata": {},
   "outputs": [],
   "source": [
    "t_1 = speech_to_text_api(\"6183.wav\")\n",
    "t_2 = speech_to_text_api(\"6130.wav\") \n",
    "t_3 = speech_to_text_api(\"4902.wav\")\n",
    "t_4 = speech_to_text_api(\"4790.wav\")\n",
    "t_5 = speech_to_text_api(\"4875.wav\")"
   ]
  },
  {
   "cell_type": "code",
   "execution_count": 9,
   "metadata": {},
   "outputs": [],
   "source": [
    "import pandas as pd"
   ]
  },
  {
   "cell_type": "code",
   "execution_count": 10,
   "metadata": {},
   "outputs": [],
   "source": [
    "df = pd.DataFrame({\"Database\": \"Talk_Bank\", \"Study\": \"Call_Home\", \"Call_Number\": \"6183\", \"File_Format\": \".wav\", 'Call_Transcript': [t_1]})\n",
    "df2 = pd.DataFrame({\"Database\": \"Talk_Bank\", \"Study\": \"Call_Home\", \"Call_Number\": \"6130\", \"File_Format\": \".wav\", 'Call_Transcript': [t_2]})\n",
    "df3 = pd.DataFrame({\"Database\": \"Talk_Bank\", \"Study\": \"Call_Home\", \"Call_Number\": \"4902\", \"File_Format\": \".wav\", 'Call_Transcript': [t_3]})\n",
    "df4 = pd.DataFrame({\"Database\": \"Talk_Bank\", \"Study\": \"Call_Home\", \"Call_Number\": \"4790\", \"File_Format\": \".wav\", 'Call_Transcript': [t_4]})\n",
    "df5 = pd.DataFrame({\"Database\": \"Talk_Bank\", \"Study\": \"Call_Home\", \"Call_Number\": \"4875\", \"File_Format\": \".wav\", 'Call_Transcript': [t_5]})"
   ]
  },
  {
   "cell_type": "code",
   "execution_count": 11,
   "metadata": {},
   "outputs": [],
   "source": [
    "\n",
    "df_final_rough = pd.concat([df, df2, df3, df4, df5])"
   ]
  },
  {
   "cell_type": "code",
   "execution_count": 12,
   "metadata": {},
   "outputs": [
    {
     "data": {
      "text/html": [
       "<div>\n",
       "<style scoped>\n",
       "    .dataframe tbody tr th:only-of-type {\n",
       "        vertical-align: middle;\n",
       "    }\n",
       "\n",
       "    .dataframe tbody tr th {\n",
       "        vertical-align: top;\n",
       "    }\n",
       "\n",
       "    .dataframe thead th {\n",
       "        text-align: right;\n",
       "    }\n",
       "</style>\n",
       "<table border=\"1\" class=\"dataframe\">\n",
       "  <thead>\n",
       "    <tr style=\"text-align: right;\">\n",
       "      <th></th>\n",
       "      <th>Database</th>\n",
       "      <th>Study</th>\n",
       "      <th>Call_Number</th>\n",
       "      <th>File_Format</th>\n",
       "      <th>Call_Transcript</th>\n",
       "    </tr>\n",
       "  </thead>\n",
       "  <tbody>\n",
       "    <tr>\n",
       "      <td>0</td>\n",
       "      <td>Talk_Bank</td>\n",
       "      <td>Call_Home</td>\n",
       "      <td>6183</td>\n",
       "      <td>.wav</td>\n",
       "      <td>speaker 1: \\nspeaker 2: are you there\\nspeaker...</td>\n",
       "    </tr>\n",
       "    <tr>\n",
       "      <td>0</td>\n",
       "      <td>Talk_Bank</td>\n",
       "      <td>Call_Home</td>\n",
       "      <td>6130</td>\n",
       "      <td>.wav</td>\n",
       "      <td>speaker 1: \\nspeaker 2: hello\\nspeaker 1: hell...</td>\n",
       "    </tr>\n",
       "    <tr>\n",
       "      <td>0</td>\n",
       "      <td>Talk_Bank</td>\n",
       "      <td>Call_Home</td>\n",
       "      <td>4902</td>\n",
       "      <td>.wav</td>\n",
       "      <td>speaker 1:  I\\nspeaker 2: don't know if I don'...</td>\n",
       "    </tr>\n",
       "    <tr>\n",
       "      <td>0</td>\n",
       "      <td>Talk_Bank</td>\n",
       "      <td>Call_Home</td>\n",
       "      <td>4790</td>\n",
       "      <td>.wav</td>\n",
       "      <td>speaker 1: \\nspeaker 2: are you there you got ...</td>\n",
       "    </tr>\n",
       "    <tr>\n",
       "      <td>0</td>\n",
       "      <td>Talk_Bank</td>\n",
       "      <td>Call_Home</td>\n",
       "      <td>4875</td>\n",
       "      <td>.wav</td>\n",
       "      <td>speaker 1:  Hi how are you good to\\nspeaker 2:...</td>\n",
       "    </tr>\n",
       "  </tbody>\n",
       "</table>\n",
       "</div>"
      ],
      "text/plain": [
       "    Database      Study Call_Number File_Format  \\\n",
       "0  Talk_Bank  Call_Home        6183        .wav   \n",
       "0  Talk_Bank  Call_Home        6130        .wav   \n",
       "0  Talk_Bank  Call_Home        4902        .wav   \n",
       "0  Talk_Bank  Call_Home        4790        .wav   \n",
       "0  Talk_Bank  Call_Home        4875        .wav   \n",
       "\n",
       "                                     Call_Transcript  \n",
       "0  speaker 1: \\nspeaker 2: are you there\\nspeaker...  \n",
       "0  speaker 1: \\nspeaker 2: hello\\nspeaker 1: hell...  \n",
       "0  speaker 1:  I\\nspeaker 2: don't know if I don'...  \n",
       "0  speaker 1: \\nspeaker 2: are you there you got ...  \n",
       "0  speaker 1:  Hi how are you good to\\nspeaker 2:...  "
      ]
     },
     "execution_count": 12,
     "metadata": {},
     "output_type": "execute_result"
    }
   ],
   "source": [
    "df_final_rough"
   ]
  },
  {
   "cell_type": "code",
   "execution_count": null,
   "metadata": {},
   "outputs": [],
   "source": [
    "df_final_rough.drop(df_final_rough.columns[[0]], axis=1, inplace=True)"
   ]
  },
  {
   "cell_type": "code",
   "execution_count": null,
   "metadata": {},
   "outputs": [],
   "source": [
    "df_final_rough.to_csv(\"rough_data_trans.csv\")"
   ]
  }
 ],
 "metadata": {
  "kernelspec": {
   "display_name": "Python 3.7",
   "language": "python",
   "name": "python37"
  },
  "language_info": {
   "codemirror_mode": {
    "name": "ipython",
    "version": 3
   },
   "file_extension": ".py",
   "mimetype": "text/x-python",
   "name": "python",
   "nbconvert_exporter": "python",
   "pygments_lexer": "ipython3",
   "version": "3.7.4"
  }
 },
 "nbformat": 4,
 "nbformat_minor": 4
}
